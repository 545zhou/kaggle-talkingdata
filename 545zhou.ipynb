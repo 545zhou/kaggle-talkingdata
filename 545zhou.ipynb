{
 "cells": [
  {
   "cell_type": "markdown",
   "metadata": {},
   "source": [
    "# Kaggle Project: TalkingData Mobile User Demographics"
   ]
  },
  {
   "cell_type": "markdown",
   "metadata": {},
   "source": [
    "## Defination"
   ]
  },
  {
   "cell_type": "markdown",
   "metadata": {},
   "source": [
    "### Project Overview"
   ]
  },
  {
   "cell_type": "markdown",
   "metadata": {},
   "source": [
    "This is a project from Kaggle competition projects. The link of this project is: https://www.kaggle.com/c/talkingdata-mobile-user-demographics."
   ]
  },
  {
   "cell_type": "markdown",
   "metadata": {},
   "source": [
    "This project takes usage of the data collected by TalkingData, the Chinese largest 3rd-party mobile data platform. As the Kaggle website describes \"In this competition, Kagglers are challenged to build a model predicting users’ demographic characteristics based on their app usage, geolocation, and mobile device properties. Doing so will help millions of developers and brand advertisers around the world pursue data-driven marketing efforts which are relevant to their users and catered to their preferences.\"\n",
    "\n"
   ]
  },
  {
   "cell_type": "markdown",
   "metadata": {},
   "source": [
    "### Metric"
   ]
  },
  {
   "cell_type": "markdown",
   "metadata": {},
   "source": [
    "Submissions are evaluated using the multi-class logarithmic loss. Each device has been labeled with one true class. For each device, you must submit a set of predicted probabilities (one for each class). The formula is then,\n",
    "\n",
    "$$logloss = -\\dfrac{1}{N} \\sum_{i=1}^{N} \\sum_{i=1}^{M} y_{ij} log(p_{ij})$$\n",
    "\n",
    "where N is the number of devices in the test set, M is the number of class labels,  loglog is the natural logarithm, yijyij is 1 if device ii belongs to class jj and 0 otherwise, and pijpij is the predicted probability that observation ii belongs to class jj."
   ]
  },
  {
   "cell_type": "markdown",
   "metadata": {},
   "source": [
    "## Analysis"
   ]
  },
  {
   "cell_type": "markdown",
   "metadata": {},
   "source": [
    "### Data Exploration"
   ]
  },
  {
   "cell_type": "code",
   "execution_count": 1,
   "metadata": {
    "collapsed": true
   },
   "outputs": [],
   "source": [
    "# import packages\n",
    "import numpy as np\n",
    "import pandas as pd\n",
    "from ggplot import *\n",
    "import matplotlib.pyplot as plt\n",
    "import matplotlib.pylab as pylab\n",
    "import random \n",
    "# Draw inline\n",
    "%matplotlib inline"
   ]
  },
  {
   "cell_type": "code",
   "execution_count": 27,
   "metadata": {
    "collapsed": false
   },
   "outputs": [],
   "source": [
    "# Read data into memory\n",
    "train = pd.read_csv(\"./data/gender_age_train.csv\")\n",
    "test = pd.read_csv(\"./data/gender_age_test.csv\")\n",
    "phone = pd.read_csv(\"./data/phone_brand_device_model.csv\")\n",
    "event = pd.read_csv(\"./data/events.csv\")\n",
    "app_event = pd.read_csv(\"./data/app_events.csv\")\n",
    "app_label = pd.read_csv(\"./data/app_labels.csv\")\n",
    "label_cat = pd.read_csv(\"./data/label_categories.csv\")"
   ]
  },
  {
   "cell_type": "markdown",
   "metadata": {},
   "source": [
    "Now let's take of look of the data and do some basic statisitics. "
   ]
  },
  {
   "cell_type": "code",
   "execution_count": 20,
   "metadata": {
    "collapsed": false
   },
   "outputs": [
    {
     "name": "stdout",
     "output_type": "stream",
     "text": [
      "             device_id gender  age   group\n",
      "0 -8076087639492063270      M   35  M32-38\n",
      "1 -2897161552818060146      M   35  M32-38\n",
      "2 -8260683887967679142      M   35  M32-38\n",
      "3 -4938849341048082022      M   30  M29-31\n",
      "4   245133531816851882      M   30  M29-31\n"
     ]
    },
    {
     "data": {
      "text/html": [
       "<div>\n",
       "<table border=\"1\" class=\"dataframe\">\n",
       "  <thead>\n",
       "    <tr style=\"text-align: right;\">\n",
       "      <th></th>\n",
       "      <th>device_id</th>\n",
       "      <th>age</th>\n",
       "    </tr>\n",
       "  </thead>\n",
       "  <tbody>\n",
       "    <tr>\n",
       "      <th>count</th>\n",
       "      <td>7.464500e+04</td>\n",
       "      <td>74645.000000</td>\n",
       "    </tr>\n",
       "    <tr>\n",
       "      <th>mean</th>\n",
       "      <td>-7.491354e+14</td>\n",
       "      <td>31.410342</td>\n",
       "    </tr>\n",
       "    <tr>\n",
       "      <th>std</th>\n",
       "      <td>5.327150e+18</td>\n",
       "      <td>9.868735</td>\n",
       "    </tr>\n",
       "    <tr>\n",
       "      <th>min</th>\n",
       "      <td>-9.223067e+18</td>\n",
       "      <td>1.000000</td>\n",
       "    </tr>\n",
       "    <tr>\n",
       "      <th>25%</th>\n",
       "      <td>-4.617367e+18</td>\n",
       "      <td>25.000000</td>\n",
       "    </tr>\n",
       "    <tr>\n",
       "      <th>50%</th>\n",
       "      <td>-1.841362e+16</td>\n",
       "      <td>29.000000</td>\n",
       "    </tr>\n",
       "    <tr>\n",
       "      <th>75%</th>\n",
       "      <td>4.636656e+18</td>\n",
       "      <td>36.000000</td>\n",
       "    </tr>\n",
       "    <tr>\n",
       "      <th>max</th>\n",
       "      <td>9.222849e+18</td>\n",
       "      <td>96.000000</td>\n",
       "    </tr>\n",
       "  </tbody>\n",
       "</table>\n",
       "</div>"
      ],
      "text/plain": [
       "          device_id           age\n",
       "count  7.464500e+04  74645.000000\n",
       "mean  -7.491354e+14     31.410342\n",
       "std    5.327150e+18      9.868735\n",
       "min   -9.223067e+18      1.000000\n",
       "25%   -4.617367e+18     25.000000\n",
       "50%   -1.841362e+16     29.000000\n",
       "75%    4.636656e+18     36.000000\n",
       "max    9.222849e+18     96.000000"
      ]
     },
     "execution_count": 20,
     "metadata": {},
     "output_type": "execute_result"
    }
   ],
   "source": [
    "print train.head()\n",
    "train.describe()"
   ]
  },
  {
   "cell_type": "code",
   "execution_count": 21,
   "metadata": {
    "collapsed": false
   },
   "outputs": [
    {
     "name": "stdout",
     "output_type": "stream",
     "text": [
      "             device_id\n",
      "0  1002079943728939269\n",
      "1 -1547860181818787117\n",
      "2  7374582448058474277\n",
      "3 -6220210354783429585\n",
      "4 -5893464122623104785\n"
     ]
    },
    {
     "data": {
      "text/html": [
       "<div>\n",
       "<table border=\"1\" class=\"dataframe\">\n",
       "  <thead>\n",
       "    <tr style=\"text-align: right;\">\n",
       "      <th></th>\n",
       "      <th>device_id</th>\n",
       "    </tr>\n",
       "  </thead>\n",
       "  <tbody>\n",
       "    <tr>\n",
       "      <th>count</th>\n",
       "      <td>1.120710e+05</td>\n",
       "    </tr>\n",
       "    <tr>\n",
       "      <th>mean</th>\n",
       "      <td>-2.367461e+16</td>\n",
       "    </tr>\n",
       "    <tr>\n",
       "      <th>std</th>\n",
       "      <td>5.331855e+18</td>\n",
       "    </tr>\n",
       "    <tr>\n",
       "      <th>min</th>\n",
       "      <td>-9.223322e+18</td>\n",
       "    </tr>\n",
       "    <tr>\n",
       "      <th>25%</th>\n",
       "      <td>-4.661036e+18</td>\n",
       "    </tr>\n",
       "    <tr>\n",
       "      <th>50%</th>\n",
       "      <td>-3.107321e+16</td>\n",
       "    </tr>\n",
       "    <tr>\n",
       "      <th>75%</th>\n",
       "      <td>4.581985e+18</td>\n",
       "    </tr>\n",
       "    <tr>\n",
       "      <th>max</th>\n",
       "      <td>9.223069e+18</td>\n",
       "    </tr>\n",
       "  </tbody>\n",
       "</table>\n",
       "</div>"
      ],
      "text/plain": [
       "          device_id\n",
       "count  1.120710e+05\n",
       "mean  -2.367461e+16\n",
       "std    5.331855e+18\n",
       "min   -9.223322e+18\n",
       "25%   -4.661036e+18\n",
       "50%   -3.107321e+16\n",
       "75%    4.581985e+18\n",
       "max    9.223069e+18"
      ]
     },
     "execution_count": 21,
     "metadata": {},
     "output_type": "execute_result"
    }
   ],
   "source": [
    "print test.head()\n",
    "test.describe()"
   ]
  },
  {
   "cell_type": "code",
   "execution_count": 22,
   "metadata": {
    "collapsed": false
   },
   "outputs": [
    {
     "name": "stdout",
     "output_type": "stream",
     "text": [
      "             device_id phone_brand   device_model\n",
      "0 -8890648629457979026          小米             红米\n",
      "1  1277779817574759137          小米           MI 2\n",
      "2  5137427614288105724          三星      Galaxy S4\n",
      "3  3669464369358936369       SUGAR           时尚手机\n",
      "4 -5019277647504317457          三星  Galaxy Note 2\n"
     ]
    },
    {
     "data": {
      "text/html": [
       "<div>\n",
       "<table border=\"1\" class=\"dataframe\">\n",
       "  <thead>\n",
       "    <tr style=\"text-align: right;\">\n",
       "      <th></th>\n",
       "      <th>device_id</th>\n",
       "    </tr>\n",
       "  </thead>\n",
       "  <tbody>\n",
       "    <tr>\n",
       "      <th>count</th>\n",
       "      <td>1.872450e+05</td>\n",
       "    </tr>\n",
       "    <tr>\n",
       "      <th>mean</th>\n",
       "      <td>-1.426513e+16</td>\n",
       "    </tr>\n",
       "    <tr>\n",
       "      <th>std</th>\n",
       "      <td>5.330527e+18</td>\n",
       "    </tr>\n",
       "    <tr>\n",
       "      <th>min</th>\n",
       "      <td>-9.223322e+18</td>\n",
       "    </tr>\n",
       "    <tr>\n",
       "      <th>25%</th>\n",
       "      <td>-4.645265e+18</td>\n",
       "    </tr>\n",
       "    <tr>\n",
       "      <th>50%</th>\n",
       "      <td>-2.619149e+16</td>\n",
       "    </tr>\n",
       "    <tr>\n",
       "      <th>75%</th>\n",
       "      <td>4.606568e+18</td>\n",
       "    </tr>\n",
       "    <tr>\n",
       "      <th>max</th>\n",
       "      <td>9.223069e+18</td>\n",
       "    </tr>\n",
       "  </tbody>\n",
       "</table>\n",
       "</div>"
      ],
      "text/plain": [
       "          device_id\n",
       "count  1.872450e+05\n",
       "mean  -1.426513e+16\n",
       "std    5.330527e+18\n",
       "min   -9.223322e+18\n",
       "25%   -4.645265e+18\n",
       "50%   -2.619149e+16\n",
       "75%    4.606568e+18\n",
       "max    9.223069e+18"
      ]
     },
     "execution_count": 22,
     "metadata": {},
     "output_type": "execute_result"
    }
   ],
   "source": [
    "print phone.head()\n",
    "phone.describe()"
   ]
  },
  {
   "cell_type": "code",
   "execution_count": 23,
   "metadata": {
    "collapsed": false
   },
   "outputs": [
    {
     "name": "stdout",
     "output_type": "stream",
     "text": [
      "   event_id            device_id            timestamp  longitude  latitude\n",
      "0         1    29182687948017175  2016-05-01 00:55:25     121.38     31.24\n",
      "1         2 -6401643145415154744  2016-05-01 00:54:12     103.65     30.97\n",
      "2         3 -4833982096941402721  2016-05-01 00:08:05     106.60     29.70\n",
      "3         4 -6815121365017318426  2016-05-01 00:06:40     104.27     23.28\n",
      "4         5 -5373797595892518570  2016-05-01 00:07:18     115.88     28.66\n"
     ]
    },
    {
     "data": {
      "text/html": [
       "<div>\n",
       "<table border=\"1\" class=\"dataframe\">\n",
       "  <thead>\n",
       "    <tr style=\"text-align: right;\">\n",
       "      <th></th>\n",
       "      <th>event_id</th>\n",
       "      <th>device_id</th>\n",
       "      <th>longitude</th>\n",
       "      <th>latitude</th>\n",
       "    </tr>\n",
       "  </thead>\n",
       "  <tbody>\n",
       "    <tr>\n",
       "      <th>count</th>\n",
       "      <td>3252950.000000</td>\n",
       "      <td>3.252950e+06</td>\n",
       "      <td>3252950.000000</td>\n",
       "      <td>3252950.000000</td>\n",
       "    </tr>\n",
       "    <tr>\n",
       "      <th>mean</th>\n",
       "      <td>1626475.500000</td>\n",
       "      <td>-2.685140e+16</td>\n",
       "      <td>77.961922</td>\n",
       "      <td>21.629493</td>\n",
       "    </tr>\n",
       "    <tr>\n",
       "      <th>std</th>\n",
       "      <td>939045.923418</td>\n",
       "      <td>5.301236e+18</td>\n",
       "      <td>54.058011</td>\n",
       "      <td>15.696974</td>\n",
       "    </tr>\n",
       "    <tr>\n",
       "      <th>min</th>\n",
       "      <td>1.000000</td>\n",
       "      <td>-9.222957e+18</td>\n",
       "      <td>-180.000000</td>\n",
       "      <td>-38.430000</td>\n",
       "    </tr>\n",
       "    <tr>\n",
       "      <th>25%</th>\n",
       "      <td>813238.250000</td>\n",
       "      <td>-4.616259e+18</td>\n",
       "      <td>0.000000</td>\n",
       "      <td>0.000000</td>\n",
       "    </tr>\n",
       "    <tr>\n",
       "      <th>50%</th>\n",
       "      <td>1626475.500000</td>\n",
       "      <td>-1.729953e+16</td>\n",
       "      <td>112.950000</td>\n",
       "      <td>28.020000</td>\n",
       "    </tr>\n",
       "    <tr>\n",
       "      <th>75%</th>\n",
       "      <td>2439712.750000</td>\n",
       "      <td>4.549750e+18</td>\n",
       "      <td>117.210000</td>\n",
       "      <td>34.070000</td>\n",
       "    </tr>\n",
       "    <tr>\n",
       "      <th>max</th>\n",
       "      <td>3252950.000000</td>\n",
       "      <td>9.222540e+18</td>\n",
       "      <td>174.760000</td>\n",
       "      <td>59.940000</td>\n",
       "    </tr>\n",
       "  </tbody>\n",
       "</table>\n",
       "</div>"
      ],
      "text/plain": [
       "             event_id     device_id       longitude        latitude\n",
       "count  3252950.000000  3.252950e+06  3252950.000000  3252950.000000\n",
       "mean   1626475.500000 -2.685140e+16       77.961922       21.629493\n",
       "std     939045.923418  5.301236e+18       54.058011       15.696974\n",
       "min          1.000000 -9.222957e+18     -180.000000      -38.430000\n",
       "25%     813238.250000 -4.616259e+18        0.000000        0.000000\n",
       "50%    1626475.500000 -1.729953e+16      112.950000       28.020000\n",
       "75%    2439712.750000  4.549750e+18      117.210000       34.070000\n",
       "max    3252950.000000  9.222540e+18      174.760000       59.940000"
      ]
     },
     "execution_count": 23,
     "metadata": {},
     "output_type": "execute_result"
    }
   ],
   "source": [
    "print event.head()\n",
    "event.describe()"
   ]
  },
  {
   "cell_type": "code",
   "execution_count": 24,
   "metadata": {
    "collapsed": false
   },
   "outputs": [
    {
     "name": "stdout",
     "output_type": "stream",
     "text": [
      "   event_id               app_id  is_installed  is_active\n",
      "0         2  5927333115845830913             1          1\n",
      "1         2 -5720078949152207372             1          0\n",
      "2         2 -1633887856876571208             1          0\n",
      "3         2  -653184325010919369             1          1\n",
      "4         2  8693964245073640147             1          1\n"
     ]
    },
    {
     "data": {
      "text/html": [
       "<div>\n",
       "<table border=\"1\" class=\"dataframe\">\n",
       "  <thead>\n",
       "    <tr style=\"text-align: right;\">\n",
       "      <th></th>\n",
       "      <th>event_id</th>\n",
       "      <th>app_id</th>\n",
       "      <th>is_installed</th>\n",
       "      <th>is_active</th>\n",
       "    </tr>\n",
       "  </thead>\n",
       "  <tbody>\n",
       "    <tr>\n",
       "      <th>count</th>\n",
       "      <td>32473067.000000</td>\n",
       "      <td>3.247307e+07</td>\n",
       "      <td>32473067</td>\n",
       "      <td>32473067.000000</td>\n",
       "    </tr>\n",
       "    <tr>\n",
       "      <th>mean</th>\n",
       "      <td>1625563.562268</td>\n",
       "      <td>1.182779e+18</td>\n",
       "      <td>1</td>\n",
       "      <td>0.392109</td>\n",
       "    </tr>\n",
       "    <tr>\n",
       "      <th>std</th>\n",
       "      <td>938468.181497</td>\n",
       "      <td>5.360173e+18</td>\n",
       "      <td>0</td>\n",
       "      <td>0.488221</td>\n",
       "    </tr>\n",
       "    <tr>\n",
       "      <th>min</th>\n",
       "      <td>2.000000</td>\n",
       "      <td>-9.221157e+18</td>\n",
       "      <td>1</td>\n",
       "      <td>0.000000</td>\n",
       "    </tr>\n",
       "    <tr>\n",
       "      <th>25%</th>\n",
       "      <td>813472.000000</td>\n",
       "      <td>-3.474568e+18</td>\n",
       "      <td>1</td>\n",
       "      <td>0.000000</td>\n",
       "    </tr>\n",
       "    <tr>\n",
       "      <th>50%</th>\n",
       "      <td>1626907.000000</td>\n",
       "      <td>1.387044e+18</td>\n",
       "      <td>1</td>\n",
       "      <td>0.000000</td>\n",
       "    </tr>\n",
       "    <tr>\n",
       "      <th>75%</th>\n",
       "      <td>2441106.000000</td>\n",
       "      <td>6.043001e+18</td>\n",
       "      <td>1</td>\n",
       "      <td>1.000000</td>\n",
       "    </tr>\n",
       "    <tr>\n",
       "      <th>max</th>\n",
       "      <td>3252948.000000</td>\n",
       "      <td>9.222488e+18</td>\n",
       "      <td>1</td>\n",
       "      <td>1.000000</td>\n",
       "    </tr>\n",
       "  </tbody>\n",
       "</table>\n",
       "</div>"
      ],
      "text/plain": [
       "              event_id        app_id  is_installed        is_active\n",
       "count  32473067.000000  3.247307e+07      32473067  32473067.000000\n",
       "mean    1625563.562268  1.182779e+18             1         0.392109\n",
       "std      938468.181497  5.360173e+18             0         0.488221\n",
       "min           2.000000 -9.221157e+18             1         0.000000\n",
       "25%      813472.000000 -3.474568e+18             1         0.000000\n",
       "50%     1626907.000000  1.387044e+18             1         0.000000\n",
       "75%     2441106.000000  6.043001e+18             1         1.000000\n",
       "max     3252948.000000  9.222488e+18             1         1.000000"
      ]
     },
     "execution_count": 24,
     "metadata": {},
     "output_type": "execute_result"
    }
   ],
   "source": [
    "print app_event.head()\n",
    "app_event.describe()"
   ]
  },
  {
   "cell_type": "code",
   "execution_count": 25,
   "metadata": {
    "collapsed": false
   },
   "outputs": [
    {
     "name": "stdout",
     "output_type": "stream",
     "text": [
      "                app_id  label_id\n",
      "0  7324884708820027918       251\n",
      "1 -4494216993218550286       251\n",
      "2  6058196446775239644       406\n",
      "3  6058196446775239644       407\n",
      "4  8694625920731541625       406\n"
     ]
    },
    {
     "data": {
      "text/html": [
       "<div>\n",
       "<table border=\"1\" class=\"dataframe\">\n",
       "  <thead>\n",
       "    <tr style=\"text-align: right;\">\n",
       "      <th></th>\n",
       "      <th>app_id</th>\n",
       "      <th>label_id</th>\n",
       "    </tr>\n",
       "  </thead>\n",
       "  <tbody>\n",
       "    <tr>\n",
       "      <th>count</th>\n",
       "      <td>4.599430e+05</td>\n",
       "      <td>459943.000000</td>\n",
       "    </tr>\n",
       "    <tr>\n",
       "      <th>mean</th>\n",
       "      <td>1.912461e+17</td>\n",
       "      <td>664.849749</td>\n",
       "    </tr>\n",
       "    <tr>\n",
       "      <th>std</th>\n",
       "      <td>5.269442e+18</td>\n",
       "      <td>192.797736</td>\n",
       "    </tr>\n",
       "    <tr>\n",
       "      <th>min</th>\n",
       "      <td>-9.223281e+18</td>\n",
       "      <td>2.000000</td>\n",
       "    </tr>\n",
       "    <tr>\n",
       "      <th>25%</th>\n",
       "      <td>-4.305882e+18</td>\n",
       "      <td>548.000000</td>\n",
       "    </tr>\n",
       "    <tr>\n",
       "      <th>50%</th>\n",
       "      <td>1.083204e+17</td>\n",
       "      <td>714.000000</td>\n",
       "    </tr>\n",
       "    <tr>\n",
       "      <th>75%</th>\n",
       "      <td>4.830475e+18</td>\n",
       "      <td>795.000000</td>\n",
       "    </tr>\n",
       "    <tr>\n",
       "      <th>max</th>\n",
       "      <td>9.223318e+18</td>\n",
       "      <td>1021.000000</td>\n",
       "    </tr>\n",
       "  </tbody>\n",
       "</table>\n",
       "</div>"
      ],
      "text/plain": [
       "             app_id       label_id\n",
       "count  4.599430e+05  459943.000000\n",
       "mean   1.912461e+17     664.849749\n",
       "std    5.269442e+18     192.797736\n",
       "min   -9.223281e+18       2.000000\n",
       "25%   -4.305882e+18     548.000000\n",
       "50%    1.083204e+17     714.000000\n",
       "75%    4.830475e+18     795.000000\n",
       "max    9.223318e+18    1021.000000"
      ]
     },
     "execution_count": 25,
     "metadata": {},
     "output_type": "execute_result"
    }
   ],
   "source": [
    "print app_label.head()\n",
    "app_label.describe()"
   ]
  },
  {
   "cell_type": "code",
   "execution_count": 26,
   "metadata": {
    "collapsed": false
   },
   "outputs": [
    {
     "name": "stdout",
     "output_type": "stream",
     "text": [
      "   label_id           category\n",
      "0         1                NaN\n",
      "1         2     game-game type\n",
      "2         3   game-Game themes\n",
      "3         4     game-Art Style\n",
      "4         5  game-Leisure time\n"
     ]
    },
    {
     "data": {
      "text/html": [
       "<div>\n",
       "<table border=\"1\" class=\"dataframe\">\n",
       "  <thead>\n",
       "    <tr style=\"text-align: right;\">\n",
       "      <th></th>\n",
       "      <th>label_id</th>\n",
       "    </tr>\n",
       "  </thead>\n",
       "  <tbody>\n",
       "    <tr>\n",
       "      <th>count</th>\n",
       "      <td>930.000000</td>\n",
       "    </tr>\n",
       "    <tr>\n",
       "      <th>mean</th>\n",
       "      <td>517.080645</td>\n",
       "    </tr>\n",
       "    <tr>\n",
       "      <th>std</th>\n",
       "      <td>297.858790</td>\n",
       "    </tr>\n",
       "    <tr>\n",
       "      <th>min</th>\n",
       "      <td>1.000000</td>\n",
       "    </tr>\n",
       "    <tr>\n",
       "      <th>25%</th>\n",
       "      <td>251.250000</td>\n",
       "    </tr>\n",
       "    <tr>\n",
       "      <th>50%</th>\n",
       "      <td>523.500000</td>\n",
       "    </tr>\n",
       "    <tr>\n",
       "      <th>75%</th>\n",
       "      <td>778.750000</td>\n",
       "    </tr>\n",
       "    <tr>\n",
       "      <th>max</th>\n",
       "      <td>1021.000000</td>\n",
       "    </tr>\n",
       "  </tbody>\n",
       "</table>\n",
       "</div>"
      ],
      "text/plain": [
       "          label_id\n",
       "count   930.000000\n",
       "mean    517.080645\n",
       "std     297.858790\n",
       "min       1.000000\n",
       "25%     251.250000\n",
       "50%     523.500000\n",
       "75%     778.750000\n",
       "max    1021.000000"
      ]
     },
     "execution_count": 26,
     "metadata": {},
     "output_type": "execute_result"
    }
   ],
   "source": [
    "print label_cat.head()\n",
    "label_cat.describe()"
   ]
  },
  {
   "cell_type": "code",
   "execution_count": null,
   "metadata": {
    "collapsed": true
   },
   "outputs": [],
   "source": []
  }
 ],
 "metadata": {
  "kernelspec": {
   "display_name": "Python 2",
   "language": "python",
   "name": "python2"
  },
  "language_info": {
   "codemirror_mode": {
    "name": "ipython",
    "version": 2
   },
   "file_extension": ".py",
   "mimetype": "text/x-python",
   "name": "python",
   "nbconvert_exporter": "python",
   "pygments_lexer": "ipython2",
   "version": "2.7.11"
  }
 },
 "nbformat": 4,
 "nbformat_minor": 0
}
